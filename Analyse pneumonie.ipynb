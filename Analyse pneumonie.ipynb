{
 "cells": [
  {
   "cell_type": "markdown",
   "metadata": {},
   "source": [
    "# Import Data"
   ]
  },
  {
   "cell_type": "code",
   "execution_count": 6,
   "metadata": {},
   "outputs": [
    {
     "name": "stdout",
     "output_type": "stream",
     "text": [
      "Found 5216 images belonging to 2 classes.\n",
      "Found 624 images belonging to 2 classes.\n"
     ]
    }
   ],
   "source": [
    "from keras.preprocessing.image import ImageDataGenerator\n",
    "\n",
    "#crÃ©ation de nouvelles images deformation rotation d'anciennes images\n",
    "train_datagen = ImageDataGenerator(rescale = 1./255,\n",
    "                                   shear_range = 0.2,\n",
    "                                   zoom_range = 0.2,\n",
    "                                   horizontal_flip = True)\n",
    "\n",
    "test_datagen = ImageDataGenerator(rescale = 1./255)\n",
    "\n",
    "training_set = train_datagen.flow_from_directory('D:/chest-xray-pneumonia/chest_xray/train',\n",
    "                                                 target_size = (224, 224),\n",
    "                                                 color_mode='rgb',\n",
    "                                                 batch_size = 8,\n",
    "                                                 class_mode = 'binary')\n",
    "\n",
    "test_set = test_datagen.flow_from_directory('D:/chest-xray-pneumonia/chest_xray/test',\n",
    "                                            target_size = (224,224),\n",
    "                                            color_mode='rgb',\n",
    "                                            batch_size = 1,\n",
    "                                            class_mode = 'binary')"
   ]
  },
  {
   "cell_type": "markdown",
   "metadata": {},
   "source": [
    "# Modelling"
   ]
  },
  {
   "cell_type": "code",
   "execution_count": 7,
   "metadata": {},
   "outputs": [],
   "source": [
    "# Importing libraries\n",
    "from mlxtend.plotting import plot_confusion_matrix\n",
    "from sklearn.metrics import confusion_matrix\n",
    "import numpy as np\n",
    "from keras.models import Sequential\n",
    "from keras.layers import Conv2D\n",
    "from keras.layers import MaxPooling2D\n",
    "from keras.layers import Flatten\n",
    "from keras.layers import Dense\n",
    "from keras.layers import ZeroPadding2D\n",
    "from keras.layers import BatchNormalization\n",
    "from keras.layers import Activation\n",
    "from keras.layers import Dropout"
   ]
  },
  {
   "cell_type": "code",
   "execution_count": 8,
   "metadata": {},
   "outputs": [],
   "source": [
    "classifier = Sequential()\n",
    "\n",
    "classifier.add(Conv2D(input_shape=(224,224,3),filters=32,kernel_size=(3,3),padding=\"same\",activation=\"relu\"))\n",
    "classifier.add(Conv2D(filters=32,kernel_size=(3,3),padding=\"same\", activation=\"relu\"))\n",
    "classifier.add(BatchNormalization())\n",
    "classifier.add(MaxPooling2D((2, 2), strides = (2, 2)))\n",
    "\n",
    "\n",
    "classifier.add(Conv2D(filters=64,kernel_size=(3,3),padding=\"same\",activation=\"relu\"))\n",
    "classifier.add(Conv2D(filters=64,kernel_size=(3,3),padding=\"same\", activation=\"relu\"))\n",
    "classifier.add(BatchNormalization())\n",
    "classifier.add(MaxPooling2D((2, 2), strides = (2, 2)))\n",
    "\n",
    "classifier.add(Conv2D(filters=128,kernel_size=(3,3),padding=\"same\",activation=\"relu\"))\n",
    "classifier.add(Conv2D(filters=128,kernel_size=(3,3),padding=\"same\", activation=\"relu\"))\n",
    "classifier.add(Conv2D(filters=128,kernel_size=(3,3),padding=\"same\", activation=\"relu\"))\n",
    "classifier.add(BatchNormalization())\n",
    "classifier.add(MaxPooling2D((2, 2), strides = (2, 2)))\n",
    "\n",
    "classifier.add(Conv2D(filters=256,kernel_size=(3,3),padding=\"same\",activation=\"relu\"))\n",
    "classifier.add(Conv2D(filters=256,kernel_size=(3,3),padding=\"same\", activation=\"relu\"))\n",
    "classifier.add(Conv2D(filters=256,kernel_size=(3,3),padding=\"same\", activation=\"relu\"))\n",
    "classifier.add(BatchNormalization())\n",
    "classifier.add(MaxPooling2D((2, 2), strides = (2, 2)))\n",
    "\n",
    "classifier.add(Conv2D(filters=512,kernel_size=(3,3),padding=\"same\",activation=\"relu\"))\n",
    "classifier.add(Conv2D(filters=512,kernel_size=(3,3),padding=\"same\", activation=\"relu\"))\n",
    "classifier.add(Conv2D(filters=512,kernel_size=(3,3),padding=\"same\", activation=\"relu\"))\n",
    "classifier.add(BatchNormalization())\n",
    "classifier.add(MaxPooling2D((2, 2), strides = (2, 2)))\n",
    "\n",
    "\n",
    "classifier.add(Flatten())\n",
    "classifier.add(Dense(256, activation='relu', name='fc1'))\n",
    "classifier.add(Dropout(rate=0.5, name='dropout1'))\n",
    "classifier.add(Dense(128, activation='relu', name='fc2'))\n",
    "classifier.add(Dropout(rate=0.5, name='dropout2'))\n",
    "classifier.add(Dense(1, activation='sigmoid', name='fc3'))"
   ]
  },
  {
   "cell_type": "code",
   "execution_count": 9,
   "metadata": {},
   "outputs": [],
   "source": [
    "classifier.compile(optimizer='adam',\n",
    "              loss='binary_crossentropy',\n",
    "              metrics=['accuracy'])"
   ]
  },
  {
   "cell_type": "code",
   "execution_count": 11,
   "metadata": {},
   "outputs": [
    {
     "name": "stdout",
     "output_type": "stream",
     "text": [
      "Epoch 1/20\n",
      "100/100 [==============================] - 25s 246ms/step - loss: 3.2259 - accuracy: 0.7113 - val_loss: 4.6095e-04 - val_accuracy: 0.7000\n",
      "Epoch 2/20\n"
     ]
    },
    {
     "name": "stderr",
     "output_type": "stream",
     "text": [
      "c:\\users\\sylvain\\.conda\\envs\\test\\lib\\site-packages\\keras\\callbacks\\callbacks.py:707: RuntimeWarning: Can save best model only with val_acc available, skipping.\n",
      "  'skipping.' % (self.monitor), RuntimeWarning)\n",
      "c:\\users\\sylvain\\.conda\\envs\\test\\lib\\site-packages\\keras\\callbacks\\callbacks.py:846: RuntimeWarning: Early stopping conditioned on metric `val_acc` which is not available. Available metrics are: val_loss,val_accuracy,loss,accuracy\n",
      "  (self.monitor, ','.join(list(logs.keys()))), RuntimeWarning\n"
     ]
    },
    {
     "name": "stdout",
     "output_type": "stream",
     "text": [
      "100/100 [==============================] - 26s 258ms/step - loss: 1.3747 - accuracy: 0.6812 - val_loss: 1.4728e-07 - val_accuracy: 0.7000\n",
      "Epoch 3/20\n",
      "100/100 [==============================] - 26s 264ms/step - loss: 0.6012 - accuracy: 0.7725 - val_loss: 5.4880e-12 - val_accuracy: 0.5000\n",
      "Epoch 4/20\n",
      "100/100 [==============================] - 27s 270ms/step - loss: 0.5677 - accuracy: 0.7650 - val_loss: 2.1575 - val_accuracy: 0.5000\n",
      "Epoch 5/20\n",
      "100/100 [==============================] - 27s 273ms/step - loss: 0.4198 - accuracy: 0.7975 - val_loss: 1.7902 - val_accuracy: 0.3000\n",
      "Epoch 6/20\n",
      "100/100 [==============================] - 27s 268ms/step - loss: 0.4981 - accuracy: 0.7588 - val_loss: 9.6799 - val_accuracy: 0.4000\n",
      "Epoch 7/20\n",
      "100/100 [==============================] - 27s 271ms/step - loss: 0.4534 - accuracy: 0.7700 - val_loss: 2.9432e-04 - val_accuracy: 0.6000\n",
      "Epoch 8/20\n",
      "100/100 [==============================] - 27s 274ms/step - loss: 0.4208 - accuracy: 0.7688 - val_loss: 1.4685e-07 - val_accuracy: 0.7000\n",
      "Epoch 9/20\n",
      "100/100 [==============================] - 28s 277ms/step - loss: 0.4749 - accuracy: 0.7738 - val_loss: 6.9264e-05 - val_accuracy: 0.8000\n",
      "Epoch 10/20\n",
      "100/100 [==============================] - 29s 286ms/step - loss: 0.4671 - accuracy: 0.8200 - val_loss: 3.1386e-05 - val_accuracy: 0.5000\n",
      "Epoch 11/20\n",
      "100/100 [==============================] - 29s 290ms/step - loss: 0.4283 - accuracy: 0.7850 - val_loss: 1.6441 - val_accuracy: 0.6000\n",
      "Epoch 12/20\n",
      "100/100 [==============================] - 27s 269ms/step - loss: 0.3880 - accuracy: 0.8575 - val_loss: 4.6726e-06 - val_accuracy: 0.8000\n",
      "Epoch 13/20\n",
      "100/100 [==============================] - 27s 273ms/step - loss: 0.3881 - accuracy: 0.8313 - val_loss: 0.4781 - val_accuracy: 0.9000\n",
      "Epoch 14/20\n",
      "100/100 [==============================] - 30s 297ms/step - loss: 0.3810 - accuracy: 0.8025 - val_loss: 6.2205 - val_accuracy: 0.7000\n",
      "Epoch 15/20\n",
      "100/100 [==============================] - 29s 287ms/step - loss: 0.4115 - accuracy: 0.8037 - val_loss: 9.6093e-07 - val_accuracy: 0.6000\n",
      "Epoch 16/20\n",
      "100/100 [==============================] - 28s 280ms/step - loss: 0.3311 - accuracy: 0.8462 - val_loss: 0.6367 - val_accuracy: 0.8000\n",
      "Epoch 17/20\n",
      "100/100 [==============================] - 29s 287ms/step - loss: 0.4048 - accuracy: 0.8275 - val_loss: 6.0671e-33 - val_accuracy: 0.4000\n",
      "Epoch 18/20\n",
      "100/100 [==============================] - 32s 316ms/step - loss: 0.5292 - accuracy: 0.7400 - val_loss: 0.0569 - val_accuracy: 0.7000\n",
      "Epoch 19/20\n",
      "100/100 [==============================] - 28s 278ms/step - loss: 0.4534 - accuracy: 0.7412 - val_loss: 0.0091 - val_accuracy: 0.7000\n",
      "Epoch 20/20\n",
      "100/100 [==============================] - 32s 317ms/step - loss: 0.4051 - accuracy: 0.8163 - val_loss: 0.1862 - val_accuracy: 0.8000\n"
     ]
    }
   ],
   "source": [
    "from keras.callbacks import ModelCheckpoint, EarlyStopping\n",
    "\n",
    "\n",
    "checkpoint = ModelCheckpoint(\"model.h5\", monitor='val_acc', verbose=1, save_best_only=True, save_weights_only=False, mode='auto', period=1)\n",
    "\n",
    "early = EarlyStopping(monitor='val_acc', min_delta=0, patience=20, verbose=1, mode='auto')\n",
    "\n",
    "history=classifier.fit_generator(steps_per_epoch=100,generator=training_set, validation_data= test_set, validation_steps=10,epochs=20,callbacks=[checkpoint,early])"
   ]
  },
  {
   "cell_type": "code",
   "execution_count": null,
   "metadata": {},
   "outputs": [],
   "source": [
    "classifier.save('D:/chest-xray-pneumonia/chest_xray/model3.h5')"
   ]
  },
  {
   "cell_type": "code",
   "execution_count": null,
   "metadata": {},
   "outputs": [],
   "source": [
    "from keras.models import load_model\n",
    "classifier = load_model('D:/chest-xray-pneumonia/chest_xray/model3.h5')"
   ]
  },
  {
   "cell_type": "code",
   "execution_count": 21,
   "metadata": {},
   "outputs": [
    {
     "name": "stdout",
     "output_type": "stream",
     "text": [
      "Model: \"sequential_2\"\n",
      "_________________________________________________________________\n",
      "Layer (type)                 Output Shape              Param #   \n",
      "=================================================================\n",
      "conv2d_14 (Conv2D)           (None, 224, 224, 32)      896       \n",
      "_________________________________________________________________\n",
      "conv2d_15 (Conv2D)           (None, 224, 224, 32)      9248      \n",
      "_________________________________________________________________\n",
      "batch_normalization_6 (Batch (None, 224, 224, 32)      128       \n",
      "_________________________________________________________________\n",
      "max_pooling2d_6 (MaxPooling2 (None, 112, 112, 32)      0         \n",
      "_________________________________________________________________\n",
      "conv2d_16 (Conv2D)           (None, 112, 112, 64)      18496     \n",
      "_________________________________________________________________\n",
      "conv2d_17 (Conv2D)           (None, 112, 112, 64)      36928     \n",
      "_________________________________________________________________\n",
      "batch_normalization_7 (Batch (None, 112, 112, 64)      256       \n",
      "_________________________________________________________________\n",
      "max_pooling2d_7 (MaxPooling2 (None, 56, 56, 64)        0         \n",
      "_________________________________________________________________\n",
      "conv2d_18 (Conv2D)           (None, 56, 56, 128)       73856     \n",
      "_________________________________________________________________\n",
      "conv2d_19 (Conv2D)           (None, 56, 56, 128)       147584    \n",
      "_________________________________________________________________\n",
      "conv2d_20 (Conv2D)           (None, 56, 56, 128)       147584    \n",
      "_________________________________________________________________\n",
      "batch_normalization_8 (Batch (None, 56, 56, 128)       512       \n",
      "_________________________________________________________________\n",
      "max_pooling2d_8 (MaxPooling2 (None, 28, 28, 128)       0         \n",
      "_________________________________________________________________\n",
      "conv2d_21 (Conv2D)           (None, 28, 28, 256)       295168    \n",
      "_________________________________________________________________\n",
      "conv2d_22 (Conv2D)           (None, 28, 28, 256)       590080    \n",
      "_________________________________________________________________\n",
      "conv2d_23 (Conv2D)           (None, 28, 28, 256)       590080    \n",
      "_________________________________________________________________\n",
      "batch_normalization_9 (Batch (None, 28, 28, 256)       1024      \n",
      "_________________________________________________________________\n",
      "max_pooling2d_9 (MaxPooling2 (None, 14, 14, 256)       0         \n",
      "_________________________________________________________________\n",
      "conv2d_24 (Conv2D)           (None, 14, 14, 512)       1180160   \n",
      "_________________________________________________________________\n",
      "conv2d_25 (Conv2D)           (None, 14, 14, 512)       2359808   \n",
      "_________________________________________________________________\n",
      "conv2d_26 (Conv2D)           (None, 14, 14, 512)       2359808   \n",
      "_________________________________________________________________\n",
      "batch_normalization_10 (Batc (None, 14, 14, 512)       2048      \n",
      "_________________________________________________________________\n",
      "max_pooling2d_10 (MaxPooling (None, 7, 7, 512)         0         \n",
      "_________________________________________________________________\n",
      "flatten_2 (Flatten)          (None, 25088)             0         \n",
      "_________________________________________________________________\n",
      "fc1 (Dense)                  (None, 256)               6422784   \n",
      "_________________________________________________________________\n",
      "dropout1 (Dropout)           (None, 256)               0         \n",
      "_________________________________________________________________\n",
      "fc2 (Dense)                  (None, 128)               32896     \n",
      "_________________________________________________________________\n",
      "dropout2 (Dropout)           (None, 128)               0         \n",
      "_________________________________________________________________\n",
      "fc3 (Dense)                  (None, 1)                 129       \n",
      "=================================================================\n",
      "Total params: 14,269,473\n",
      "Trainable params: 14,267,489\n",
      "Non-trainable params: 1,984\n",
      "_________________________________________________________________\n"
     ]
    }
   ],
   "source": [
    "classifier.summary()"
   ]
  },
  {
   "cell_type": "code",
   "execution_count": 22,
   "metadata": {},
   "outputs": [
    {
     "name": "stdout",
     "output_type": "stream",
     "text": [
      "624/624 [==============================] - 9s 15ms/step\n"
     ]
    }
   ],
   "source": [
    "test_loss, test_score = classifier.evaluate(test_set)"
   ]
  },
  {
   "cell_type": "code",
   "execution_count": 23,
   "metadata": {},
   "outputs": [
    {
     "data": {
      "text/plain": [
       "(0.1753443479537964, 0.7580128312110901)"
      ]
     },
     "execution_count": 23,
     "metadata": {},
     "output_type": "execute_result"
    }
   ],
   "source": [
    "test_loss,test_score"
   ]
  },
  {
   "cell_type": "code",
   "execution_count": 24,
   "metadata": {},
   "outputs": [],
   "source": [
    "preds = classifier.predict_generator(test_set)"
   ]
  },
  {
   "cell_type": "code",
   "execution_count": 25,
   "metadata": {},
   "outputs": [],
   "source": [
    "orig_test_labes= test_set.classes\n",
    "orig_test_labes=np.reshape(orig_test_labes,(624,1))"
   ]
  },
  {
   "cell_type": "code",
   "execution_count": 26,
   "metadata": {},
   "outputs": [],
   "source": [
    "preds[preds<0.5]=0 \n",
    "preds[preds>=0.5]=1"
   ]
  },
  {
   "cell_type": "code",
   "execution_count": 27,
   "metadata": {},
   "outputs": [
    {
     "data": {
      "text/plain": [
       "<Figure size 432x288 with 0 Axes>"
      ]
     },
     "metadata": {},
     "output_type": "display_data"
    },
    {
     "data": {
      "image/png": "[encoded data removed]",
      "text/plain": [
       "<Figure size 864x576 with 1 Axes>"
      ]
     },
     "metadata": {
      "needs_background": "light"
     },
     "output_type": "display_data"
    }
   ],
   "source": [
    "import matplotlib.pyplot as plt\n",
    "cm  = confusion_matrix(orig_test_labes, preds)\n",
    "plt.figure()\n",
    "plot_confusion_matrix(cm,figsize=(12,8), hide_ticks=True,cmap=plt.cm.Blues)\n",
    "plt.xticks(range(2), ['Normal', 'Pneumonia'], fontsize=16)\n",
    "plt.yticks(range(2), ['Normal', 'Pneumonia'], fontsize=16)\n",
    "plt.show()"
   ]
  },
  {
   "cell_type": "code",
   "execution_count": 28,
   "metadata": {},
   "outputs": [
    {
     "name": "stdout",
     "output_type": "stream",
     "text": [
      "Recall of the model is 0.84\n",
      "Precision of the model is 0.62\n"
     ]
    }
   ],
   "source": [
    "tn, fp, fn, tp = cm.ravel()\n",
    "\n",
    "precision = tp/(tp+fp)\n",
    "recall = tp/(tp+fn)\n",
    "\n",
    "print(\"Recall of the model is {:.2f}\".format(recall))\n",
    "print(\"Precision of the model is {:.2f}\".format(precision))"
   ]
  },
  {
   "cell_type": "code",
   "execution_count": 34,
   "metadata": {},
   "outputs": [
    {
     "data": {
      "image/png": "[encoded data removed]",
      "text/plain": [
       "<Figure size 432x288 with 1 Axes>"
      ]
     },
     "metadata": {
      "needs_background": "light"
     },
     "output_type": "display_data"
    }
   ],
   "source": [
    "plt.plot(history.history['accuracy'])\n",
    "plt.plot(history.history['val_accuracy'])\n",
    "plt.title('accuracy over epochs')\n",
    "plt.ylabel('accuracy')\n",
    "plt.xlabel('Epoch')\n",
    "plt.legend(['Train', 'Validation'], loc='best')\n",
    "plt.show()"
   ]
  }
 ],
 "metadata": {
  "kernelspec": {
   "display_name": "Python 3",
   "language": "python",
   "name": "python3"
  }
 },
 "nbformat": 4,
 "nbformat_minor": 2
}
